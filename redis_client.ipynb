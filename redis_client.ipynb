{
 "cells": [
  {
   "cell_type": "code",
   "execution_count": 9,
   "metadata": {},
   "outputs": [],
   "source": [
    "import psutil\n",
    "import redis\n",
    "import time\n",
    "import uuid\n",
    "from datetime import datetime"
   ]
  },
  {
   "cell_type": "code",
   "execution_count": 10,
   "metadata": {},
   "outputs": [
    {
     "name": "stdout",
     "output_type": "stream",
     "text": [
      "Redis Connected: True\n"
     ]
    }
   ],
   "source": [
    "REDIS_HOST = 'redis-14937.c311.eu-central-1-1.ec2.cloud.redislabs.com'\n",
    "REDIS_PORT = 14937   \n",
    "REDIS_USERNAME = 'default'\n",
    "REDIS_PASSWORD = 'A5wWIcZwiOoTdy1e6zlTmU3czqlyXMs7'\n",
    "\n",
    "\n",
    "\n",
    "redis_client = redis.Redis(host=REDIS_HOST, port=REDIS_PORT, username=REDIS_USERNAME, password=REDIS_PASSWORD)\n",
    "is_connected = redis_client.ping()\n",
    "print('Redis Connected:', is_connected)\n"
   ]
  },
  {
   "cell_type": "code",
   "execution_count": 11,
   "metadata": {},
   "outputs": [],
   "source": [
    "mac_address = hex(uuid.getnode())\n"
   ]
  },
  {
   "cell_type": "code",
   "execution_count": 15,
   "metadata": {},
   "outputs": [],
   "source": [
    "key = f'{mac_address}:battery'\n",
    "key2 = f'{mac_address}:power'\n"
   ]
  },
  {
   "cell_type": "code",
   "execution_count": 16,
   "metadata": {},
   "outputs": [],
   "source": [
    "result = redis_client.execute_command('TS.RANGE', key, '-', '+')"
   ]
  },
  {
   "cell_type": "code",
   "execution_count": 17,
   "metadata": {},
   "outputs": [
    {
     "name": "stdout",
     "output_type": "stream",
     "text": [
      "[[1704328983896, b'0'], [1704328984354, b'0'], [1704328984853, b'0'], [1704328985354, b'0'], [1704328985853, b'0'], [1704328986354, b'0'], [1704328986853, b'0'], [1704328987353, b'0'], [1704328987854, b'0'], [1704328988353, b'0'], [1704328988854, b'0'], [1704328989352, b'0'], [1704328989857, b'0'], [1704328990357, b'0'], [1704328990857, b'0'], [1704328991354, b'0'], [1704328991858, b'0']]\n"
     ]
    }
   ],
   "source": [
    "print(result)"
   ]
  },
  {
   "cell_type": "code",
   "execution_count": null,
   "metadata": {},
   "outputs": [],
   "source": []
  }
 ],
 "metadata": {
  "kernelspec": {
   "display_name": "ML4IoT",
   "language": "python",
   "name": "python3"
  },
  "language_info": {
   "codemirror_mode": {
    "name": "ipython",
    "version": 3
   },
   "file_extension": ".py",
   "mimetype": "text/x-python",
   "name": "python",
   "nbconvert_exporter": "python",
   "pygments_lexer": "ipython3",
   "version": "3.10.13"
  }
 },
 "nbformat": 4,
 "nbformat_minor": 2
}
